{
 "cells": [
  {
   "cell_type": "code",
   "execution_count": 1,
   "id": "f7b55db4-e0c9-459b-8a10-4fd16e05f7e0",
   "metadata": {},
   "outputs": [
    {
     "name": "stderr",
     "output_type": "stream",
     "text": [
      "[nltk_data] Downloading package sentiwordnet to C:\\Users\\Nathan\n",
      "[nltk_data]     Hua\\AppData\\Roaming\\nltk_data...\n",
      "[nltk_data]   Package sentiwordnet is already up-to-date!\n",
      "[nltk_data] Downloading package wordnet to C:\\Users\\Nathan\n",
      "[nltk_data]     Hua\\AppData\\Roaming\\nltk_data...\n",
      "[nltk_data]   Package wordnet is already up-to-date!\n"
     ]
    }
   ],
   "source": [
    "import pandas as pd\n",
    "from SentiRegression import SentiRegression\n",
    "from SentiSVC import SentiSVC\n",
    "from SentiLexicon import SentiLexicon\n",
    "from SentiNB import SentiNB\n",
    "from SentiTFIDF import SentiTFIDF"
   ]
  },
  {
   "cell_type": "code",
   "execution_count": 2,
   "id": "161043c1-6c03-4c2c-b4e4-6e41b89dc115",
   "metadata": {},
   "outputs": [],
   "source": [
    "# read data from txt\n",
    "def read_data(set_name):\n",
    "    text_file_name  = set_name + \"_text.txt\"\n",
    "    label_file_name = set_name + \"_labels.txt\"\n",
    "    text_file = open(\"data/\" + text_file_name, \"r\", encoding=\"utf8\")\n",
    "    label_file = open(\"data/\" + label_file_name, \"r\", encoding=\"utf8\")\n",
    "    x = text_file.readlines()\n",
    "    y = label_file.readlines()\n",
    "    text_file.close()\n",
    "    label_file.close()\n",
    "    for i in range(len(y)): y[i] = y[i][0]\n",
    "    return pd.DataFrame(x, columns=[\"text\"]), pd.DataFrame(y, columns=[\"label\"])"
   ]
  },
  {
   "cell_type": "code",
   "execution_count": 3,
   "id": "0693756e-b126-4154-a332-ba0c3770dae3",
   "metadata": {},
   "outputs": [],
   "source": [
    "train_set_x, train_set_y = read_data(\"train\")\n",
    "val_set_x,   val_set_y   = read_data(\"val\")\n",
    "test_set_x,  test_set_y  = read_data(\"test\")"
   ]
  },
  {
   "cell_type": "code",
   "execution_count": 4,
   "id": "7855d187-2a84-420b-935e-16e71f46e647",
   "metadata": {},
   "outputs": [
    {
     "name": "stdout",
     "output_type": "stream",
     "text": [
      "Senti SVC Created.\n",
      "Senti SVC Model Trained.\n"
     ]
    }
   ],
   "source": [
    "senti_svc = SentiSVC()\n",
    "senti_svc.train(train_set_x, train_set_y, 100)"
   ]
  },
  {
   "cell_type": "code",
   "execution_count": 5,
   "id": "468169b9-e1ff-4b2e-9037-aa574f994811",
   "metadata": {},
   "outputs": [
    {
     "name": "stdout",
     "output_type": "stream",
     "text": [
      "Validation Set Result: \n",
      "0.5940554093980991\n",
      "0.4559994623285762\n",
      "0.44029333218226435\n",
      "0.547\n"
     ]
    }
   ],
   "source": [
    "print(\"Validation Set Result: \")\n",
    "senti_svc.test(val_set_x, val_set_y)"
   ]
  },
  {
   "cell_type": "code",
   "execution_count": 6,
   "id": "6f2c065a-f7fd-43ad-9fcf-ef1a5a8bcb37",
   "metadata": {},
   "outputs": [
    {
     "name": "stdout",
     "output_type": "stream",
     "text": [
      "Test Set Result: \n",
      "0.5699023076933541\n",
      "0.41069918972804137\n",
      "0.3683008481539855\n",
      "0.518235102572452\n"
     ]
    }
   ],
   "source": [
    "print(\"Test Set Result: \")\n",
    "senti_svc.test(test_set_x, test_set_y)"
   ]
  },
  {
   "cell_type": "code",
   "execution_count": 7,
   "id": "1ecc9ab0-b639-447b-86eb-518e162d1822",
   "metadata": {},
   "outputs": [
    {
     "name": "stdout",
     "output_type": "stream",
     "text": [
      "Senti Regression Created.\n",
      "Senti Regression Model Trained.\n"
     ]
    }
   ],
   "source": [
    "senti_regression = SentiRegression()\n",
    "senti_regression.train(train_set_x, train_set_y, 100)"
   ]
  },
  {
   "cell_type": "code",
   "execution_count": 8,
   "id": "bd9c651f-7778-47c8-8e62-cb1ee4484665",
   "metadata": {},
   "outputs": [
    {
     "name": "stdout",
     "output_type": "stream",
     "text": [
      "Validation Set: \n",
      "0.6615801909032227\n",
      "0.42932723628926156\n",
      "0.39366065989609905\n",
      "0.533\n"
     ]
    }
   ],
   "source": [
    "print(\"Validation Set: \")\n",
    "senti_regression.test(val_set_x, val_set_y)"
   ]
  },
  {
   "cell_type": "code",
   "execution_count": 9,
   "id": "efb3b9c4-9ff7-4a4a-9bb6-a08dd39c2286",
   "metadata": {},
   "outputs": [
    {
     "name": "stdout",
     "output_type": "stream",
     "text": [
      "Test Set: \n",
      "0.6639592100313981\n",
      "0.38954788300779675\n",
      "0.32830888303906575\n",
      "0.5128622598502116\n"
     ]
    }
   ],
   "source": [
    "print(\"Test Set: \")\n",
    "senti_regression.test(test_set_x, test_set_y)"
   ]
  },
  {
   "cell_type": "code",
   "execution_count": 10,
   "id": "83a8170e-5b1b-4c2c-936f-4176f587d8da",
   "metadata": {},
   "outputs": [
    {
     "name": "stdout",
     "output_type": "stream",
     "text": [
      "Senti Lexicon Created.\n",
      "Senti Lexicon Model Trained.\n"
     ]
    }
   ],
   "source": [
    "senti_lexicon = SentiLexicon()\n",
    "senti_lexicon.train(train_set_x, train_set_y)"
   ]
  },
  {
   "cell_type": "code",
   "execution_count": 11,
   "id": "0d41b57f-0643-4666-89f9-fd9a4ba0d9a9",
   "metadata": {},
   "outputs": [
    {
     "name": "stdout",
     "output_type": "stream",
     "text": [
      "Validation Set Result: \n",
      "precision_score: 0.3326684444558497\n",
      "recall_score: 0.3667685297545497\n",
      "f1_score: 0.30379089161185097\n",
      "accuracy_score: 0.4527434645216892\n"
     ]
    },
    {
     "name": "stderr",
     "output_type": "stream",
     "text": [
      "C:\\Users\\Nathan Hua\\AppData\\Local\\Programs\\Python\\Python38\\lib\\site-packages\\sklearn\\metrics\\_classification.py:1318: UndefinedMetricWarning: Precision is ill-defined and being set to 0.0 in labels with no predicted samples. Use `zero_division` parameter to control this behavior.\n",
      "  _warn_prf(average, modifier, msg_start, len(result))\n"
     ]
    }
   ],
   "source": [
    "print(\"Validation Set Result: \")\n",
    "senti_lexicon.test(val_set_x, val_set_y)"
   ]
  },
  {
   "cell_type": "code",
   "execution_count": 12,
   "id": "47d3293c-0915-4cf0-b2ac-41785e2b7cca",
   "metadata": {},
   "outputs": [
    {
     "name": "stdout",
     "output_type": "stream",
     "text": [
      "Test Set: \n",
      "precision_score: 0.2597696002717706\n",
      "recall_score: 0.38056704359447063\n",
      "f1_score: 0.30411505472572753\n",
      "accuracy_score: 0.4315129811996419\n"
     ]
    },
    {
     "name": "stderr",
     "output_type": "stream",
     "text": [
      "C:\\Users\\Nathan Hua\\AppData\\Local\\Programs\\Python\\Python38\\lib\\site-packages\\sklearn\\metrics\\_classification.py:1318: UndefinedMetricWarning: Precision is ill-defined and being set to 0.0 in labels with no predicted samples. Use `zero_division` parameter to control this behavior.\n",
      "  _warn_prf(average, modifier, msg_start, len(result))\n"
     ]
    }
   ],
   "source": [
    "print(\"Test Set: \")\n",
    "senti_lexicon.test(test_set_x, test_set_y)"
   ]
  },
  {
   "cell_type": "code",
   "execution_count": 13,
   "id": "60f26a71-aedd-40e1-a4fd-5a2f129a6ed6",
   "metadata": {},
   "outputs": [
    {
     "name": "stdout",
     "output_type": "stream",
     "text": [
      "Senti Naive Bayes Created.\n",
      "Senti Naive Bayes Model Trained.\n"
     ]
    }
   ],
   "source": [
    "senti_nb = SentiNB()\n",
    "senti_nb.train(train_set_x, train_set_y)"
   ]
  },
  {
   "cell_type": "code",
   "execution_count": 14,
   "id": "680ce703-75c5-4cc5-a232-087d5d7bd6e2",
   "metadata": {},
   "outputs": [
    {
     "name": "stdout",
     "output_type": "stream",
     "text": [
      "Validation Set Result: \n",
      "0.5000896186203714\n",
      "0.5005342758507315\n",
      "0.49679783626740553\n",
      "0.531\n"
     ]
    }
   ],
   "source": [
    "print(\"Validation Set Result: \")\n",
    "senti_nb.test(val_set_x, val_set_y)"
   ]
  },
  {
   "cell_type": "code",
   "execution_count": 15,
   "id": "eb8c2824-4d5a-4658-bee1-6395b7ec3866",
   "metadata": {},
   "outputs": [
    {
     "name": "stdout",
     "output_type": "stream",
     "text": [
      "Test Set: \n",
      "0.5001305423306792\n",
      "0.4734588200039926\n",
      "0.47926996546215445\n",
      "0.524910452621296\n"
     ]
    }
   ],
   "source": [
    "print(\"Test Set: \")\n",
    "senti_nb.test(test_set_x, test_set_y)"
   ]
  },
  {
   "cell_type": "code",
   "execution_count": 4,
   "id": "b62d6493-4e23-4714-bcd5-c4c9aea42b28",
   "metadata": {},
   "outputs": [
    {
     "name": "stdout",
     "output_type": "stream",
     "text": [
      "Senti TF-IDF Created.\n",
      "Senti TF-IDF Model Trained.\n"
     ]
    }
   ],
   "source": [
    "senti_tfidf = SentiTFIDF()\n",
    "senti_tfidf.train(train_set_x, train_set_y)"
   ]
  },
  {
   "cell_type": "code",
   "execution_count": 5,
   "id": "6439be37-17dd-42d0-843e-6c572f2d0d3a",
   "metadata": {},
   "outputs": [
    {
     "name": "stdout",
     "output_type": "stream",
     "text": [
      "Validation Set Result: \n",
      "0.6687085346069246\n",
      "0.6222323738146524\n",
      "0.6365109146172074\n",
      "0.674\n"
     ]
    }
   ],
   "source": [
    "print(\"Validation Set Result: \")\n",
    "senti_tfidf.test(val_set_x, val_set_y)"
   ]
  },
  {
   "cell_type": "code",
   "execution_count": 6,
   "id": "96ae3d42-95f2-4a43-86e5-f289b4351adc",
   "metadata": {},
   "outputs": [
    {
     "name": "stdout",
     "output_type": "stream",
     "text": [
      "Test Set: \n",
      "0.598364428981503\n",
      "0.5654939929988184\n",
      "0.5680575073372092\n",
      "0.5944317811787692\n"
     ]
    }
   ],
   "source": [
    "print(\"Test Set: \")\n",
    "senti_tfidf.test(test_set_x, test_set_y)"
   ]
  },
  {
   "cell_type": "code",
   "execution_count": null,
   "id": "d0858427-acb6-41f9-93fc-fc7e7ffafc65",
   "metadata": {},
   "outputs": [],
   "source": []
  }
 ],
 "metadata": {
  "kernelspec": {
   "display_name": "Python 3 (ipykernel)",
   "language": "python",
   "name": "python3"
  },
  "language_info": {
   "codemirror_mode": {
    "name": "ipython",
    "version": 3
   },
   "file_extension": ".py",
   "mimetype": "text/x-python",
   "name": "python",
   "nbconvert_exporter": "python",
   "pygments_lexer": "ipython3",
   "version": "3.8.10"
  }
 },
 "nbformat": 4,
 "nbformat_minor": 5
}
