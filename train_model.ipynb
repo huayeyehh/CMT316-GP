{
 "cells": [
  {
   "cell_type": "markdown",
   "id": "70aead3d",
   "metadata": {},
   "source": [
    "# SVC"
   ]
  },
  {
   "cell_type": "code",
   "execution_count": 302,
   "id": "828a43fa",
   "metadata": {},
   "outputs": [],
   "source": [
    "import operator\n",
    "import nltk\n",
    "import sklearn\n",
    "import numpy as np\n",
    "from sklearn.metrics import precision_score, recall_score, f1_score,accuracy_score\n",
    "from sklearn.metrics import classification_report\n",
    "\n",
    "lemmatizer = nltk.stem.WordNetLemmatizer()\n",
    "def get_vector(vocab, text):\n",
    "    vector = np.zeros(len(vocab))\n",
    "    words = []\n",
    "    for sentence in nltk.tokenize.sent_tokenize(text):\n",
    "        for token in nltk.tokenize.word_tokenize(sentence):\n",
    "            words.append(lemmatizer.lemmatize(token).lower())\n",
    "    for i, word in enumerate(vocab):\n",
    "        if word in words:\n",
    "            vector[i] = words.count(word)\n",
    "    return vector\n",
    "\n",
    "class SentiSVC(object):\n",
    "    def __init__(self):\n",
    "        self.model = sklearn.svm.SVC(kernel=\"linear\", gamma='auto')\n",
    "        self.vocabulary = []\n",
    "        print(\"Senti SVC Created.\")\n",
    "\n",
    "    # Feature: n most frequent words of each label class and combining them together\n",
    "    def train(self, train_set_x, train_set_y, n=100):\n",
    "        # Data preprocessing\n",
    "        stopwords = set(nltk.corpus.stopwords.words(\"english\"))\n",
    "        additional_stopwords = [\".\", \",\", \"'s\", \"``\", \"''\", \"'\", \"n't\", \"%\", \"-\", \"$\", \"(\", \")\", \":\", \";\", \"@\", \"&\", \"'m\", \"user\", \"#\", \"!\", \"?\", \"...\"]\n",
    "        for sw in additional_stopwords: stopwords.add(sw)\n",
    "        \n",
    "        # Prepare vocabulary\n",
    "        for label in [\"0\", \"1\", \"2\"]:\n",
    "            # get texts with same label\n",
    "            temp_list = []\n",
    "            for i in train_set_x.index:\n",
    "                if train_set_y.loc[i, \"label\"] == label:\n",
    "                    temp_list.append(train_set_x.loc[i, \"text\"])\n",
    "            \n",
    "            # get n most frequent words of this label class\n",
    "            dict_word_freq = {}\n",
    "            for text in temp_list:\n",
    "                for sentence in nltk.tokenize.sent_tokenize(text):\n",
    "                    for token in nltk.tokenize.word_tokenize(sentence):\n",
    "                        word = lemmatizer.lemmatize(token).lower()\n",
    "                        if word in stopwords: continue\n",
    "                        if word in dict_word_freq: dict_word_freq[word] += 1\n",
    "                        else: dict_word_freq[word] = 1\n",
    "                        \n",
    "            # sort and add first n words in sorted list to vocabulary\n",
    "            sorted_list = sorted(dict_word_freq.items(), key=operator.itemgetter(1), reverse=True)\n",
    "            if n < len(sorted_list): sorted_list = sorted_list[:n]\n",
    "            for word, frequency in sorted_list:\n",
    "                if word not in self.vocabulary: self.vocabulary.append(word)\n",
    "\n",
    "        # Create training data\n",
    "        x, y = [], []\n",
    "        for i in train_set_x.index:\n",
    "            x.append(get_vector(self.vocabulary, train_set_x.loc[i, \"text\"]))\n",
    "            y.append(train_set_y.loc[i, \"label\"])\n",
    "\n",
    "        # Init and train model\n",
    "        self.model.fit(np.asarray(x), np.asarray(y))\n",
    "        print(\"Senti SVC Model Trained.\")\n",
    "\n",
    "    def test(self, val_set_x, val_set_y):\n",
    "        # test with val set\n",
    "        x, y = [], []\n",
    "        for i in val_set_x.index:\n",
    "            x.append(get_vector(self.vocabulary, val_set_x.loc[i, \"text\"]))\n",
    "            y.append(val_set_y.loc[i, \"label\"])\n",
    "        predictions = self.model.predict(x)\n",
    "        y = np.asarray(y)\n",
    "        #print(str(precision_score(y, predictions, average='macro')))\n",
    "        #print(str(recall_score(y, predictions, average='macro')))\n",
    "        #print(str(f1_score(y, predictions, average='macro')))\n",
    "        #print(str(accuracy_score(y, predictions)))\n",
    "        print(classification_report(y, predictions))\n",
    "        c_matrix = metrics.confusion_matrix(y, predictions, normalize='all')\n",
    "        sn.heatmap(c_matrix, annot=True)\n",
    "        plt.show();"
   ]
  },
  {
   "cell_type": "code",
   "execution_count": 303,
   "id": "ab4591c2",
   "metadata": {},
   "outputs": [],
   "source": [
    "import pandas as pd\n",
    "\n",
    "def read_data(set_name):\n",
    "    text_file_name  = set_name + \"_text.txt\"\n",
    "    label_file_name = set_name + \"_labels.txt\"\n",
    "    text_file = open(\"data/\" + text_file_name, \"r\", encoding=\"utf8\")\n",
    "    label_file = open(\"data/\" + label_file_name, \"r\", encoding=\"utf8\")\n",
    "    x = text_file.readlines()\n",
    "    y = label_file.readlines()\n",
    "    text_file.close()\n",
    "    label_file.close()\n",
    "    for i in range(len(y)): y[i] = y[i][0]\n",
    "    return pd.DataFrame(x, columns=[\"text\"]), pd.DataFrame(y, columns=[\"label\"])\n",
    "train_set_x, train_set_y = read_data(\"train\")"
   ]
  },
  {
   "cell_type": "code",
   "execution_count": 304,
   "id": "308c27eb",
   "metadata": {},
   "outputs": [],
   "source": [
    "train_set_x, train_set_y = read_data(\"train\")\n",
    "val_set_x,   val_set_y   = read_data(\"val\")\n",
    "test_set_x,  test_set_y  = read_data(\"test\")"
   ]
  },
  {
   "cell_type": "code",
   "execution_count": 327,
   "id": "754fb85e",
   "metadata": {
    "scrolled": true
   },
   "outputs": [
    {
     "data": {
      "image/png": "[encoded data removed]",
      "text/plain": [
       "<Figure size 432x288 with 1 Axes>"
      ]
     },
     "metadata": {},
     "output_type": "display_data"
    }
   ],
   "source": [
    "import seaborn as sn\n",
    "sn.set_theme(style=\"whitegrid\")\n",
    "ax = sn.countplot(x=\"label\", data=train_set_y)"
   ]
  },
  {
   "cell_type": "code",
   "execution_count": 328,
   "id": "e5095eb9",
   "metadata": {},
   "outputs": [
    {
     "data": {
      "image/png": "[encoded data removed]",
      "text/plain": [
       "<Figure size 432x288 with 1 Axes>"
      ]
     },
     "metadata": {},
     "output_type": "display_data"
    }
   ],
   "source": [
    "bx = sn.countplot(x=\"label\", data=val_set_y)"
   ]
  },
  {
   "cell_type": "code",
   "execution_count": 307,
   "id": "da60cb90",
   "metadata": {},
   "outputs": [
    {
     "data": {
      "image/png": "[encoded data removed]",
      "text/plain": [
       "<Figure size 432x288 with 1 Axes>"
      ]
     },
     "metadata": {},
     "output_type": "display_data"
    }
   ],
   "source": [
    "cx = sn.countplot(x=\"label\", data=test_set_y)"
   ]
  },
  {
   "cell_type": "code",
   "execution_count": 308,
   "id": "8e4ea519",
   "metadata": {},
   "outputs": [
    {
     "name": "stdout",
     "output_type": "stream",
     "text": [
      "Senti SVC Created.\n",
      "Senti SVC Model Trained.\n"
     ]
    }
   ],
   "source": [
    "senti_svc = SentiSVC()\n",
    "senti_svc.train(train_set_x, train_set_y, 100)"
   ]
  },
  {
   "cell_type": "markdown",
   "id": "2b4a0400",
   "metadata": {},
   "source": [
    "## SVC validation set"
   ]
  },
  {
   "cell_type": "code",
   "execution_count": 309,
   "id": "5350f7a2",
   "metadata": {},
   "outputs": [
    {
     "name": "stdout",
     "output_type": "stream",
     "text": [
      "              precision    recall  f1-score   support\n",
      "\n",
      "           0       0.53      0.13      0.21       312\n",
      "           1       0.50      0.90      0.65       869\n",
      "           2       0.74      0.32      0.45       819\n",
      "\n",
      "    accuracy                           0.55      2000\n",
      "   macro avg       0.59      0.45      0.44      2000\n",
      "weighted avg       0.60      0.55      0.50      2000\n",
      "\n"
     ]
    },
    {
     "data": {
      "image/png": "[encoded data removed]",
      "text/plain": [
       "<Figure size 432x288 with 2 Axes>"
      ]
     },
     "metadata": {},
     "output_type": "display_data"
    }
   ],
   "source": [
    "senti_svc.test(val_set_x, val_set_y)"
   ]
  },
  {
   "cell_type": "markdown",
   "id": "78c69ca0",
   "metadata": {},
   "source": [
    "## SVC test set"
   ]
  },
  {
   "cell_type": "code",
   "execution_count": 310,
   "id": "acd20c0a",
   "metadata": {},
   "outputs": [
    {
     "name": "stdout",
     "output_type": "stream",
     "text": [
      "              precision    recall  f1-score   support\n",
      "\n",
      "           0       0.67      0.07      0.12      3972\n",
      "           1       0.51      0.94      0.66      5937\n",
      "           2       0.54      0.23      0.32      2375\n",
      "\n",
      "    accuracy                           0.52     12284\n",
      "   macro avg       0.57      0.41      0.37     12284\n",
      "weighted avg       0.57      0.52      0.42     12284\n",
      "\n"
     ]
    },
    {
     "data": {
      "image/png": "[encoded data removed]",
      "text/plain": [
       "<Figure size 432x288 with 2 Axes>"
      ]
     },
     "metadata": {},
     "output_type": "display_data"
    }
   ],
   "source": [
    "senti_svc.test(test_set_x, test_set_y)"
   ]
  },
  {
   "cell_type": "markdown",
   "id": "e46cdacf",
   "metadata": {},
   "source": [
    "# Regression "
   ]
  },
  {
   "cell_type": "code",
   "execution_count": 320,
   "id": "3b88ca4f",
   "metadata": {},
   "outputs": [],
   "source": [
    "from sklearn.linear_model import LinearRegression\n",
    "from sklearn.metrics import precision_score, recall_score, f1_score,accuracy_score\n",
    "\n",
    "class SentiRegression(object):\n",
    "    def __init__(self):\n",
    "        self.model = LinearRegression()\n",
    "        self.vocabulary = []\n",
    "        print(\"Senti Regression Created.\")\n",
    "\n",
    "    # Feature: n most frequent words of each label class and combining them together\n",
    "    def train(self, train_set_x, train_set_y, n=100):\n",
    "        # Data preprocessing\n",
    "        stopwords = set(nltk.corpus.stopwords.words(\"english\"))\n",
    "        additional_stopwords = [\".\", \",\", \"'s\", \"``\", \"''\", \"'\", \"n't\", \"%\", \"-\", \"$\", \"(\", \")\", \":\", \";\", \"@\", \"&\", \"'m\", \"user\", \"#\", \"!\", \"?\", \"...\", \"@user\"]\n",
    "        for sw in additional_stopwords: stopwords.add(sw)\n",
    "        \n",
    "        # Prepare vocabulary\n",
    "        for label in [\"0\", \"1\", \"2\"]:\n",
    "            # get texts with same label\n",
    "            temp_list = []\n",
    "            for i in train_set_x.index:\n",
    "                if train_set_y.loc[i, \"label\"] == label:\n",
    "                    temp_list.append(train_set_x.loc[i, \"text\"])\n",
    "            \n",
    "            # get n most frequent words of this label class\n",
    "            dict_word_freq = {}\n",
    "            for text in temp_list:\n",
    "                for sentence in nltk.tokenize.sent_tokenize(text):\n",
    "                    for token in nltk.tokenize.word_tokenize(sentence):\n",
    "                        word = lemmatizer.lemmatize(token).lower()\n",
    "                        if word in stopwords: continue\n",
    "                        if word in dict_word_freq: dict_word_freq[word] += 1\n",
    "                        else: dict_word_freq[word] = 1\n",
    "                        \n",
    "            # sort and add first n words in sorted list to vocabulary\n",
    "            sorted_list = sorted(dict_word_freq.items(), key=operator.itemgetter(1), reverse=True)\n",
    "            if n < len(sorted_list): sorted_list = sorted_list[:n]\n",
    "            for word, frequency in sorted_list:\n",
    "                if word not in self.vocabulary: self.vocabulary.append(word)\n",
    "\n",
    "        # Create training data\n",
    "        x, y = [], []\n",
    "        for i in train_set_x.index:\n",
    "            x.append(get_vector(self.vocabulary, train_set_x.loc[i, \"text\"]))\n",
    "            y.append(train_set_y.loc[i, \"label\"])\n",
    "\n",
    "        # Init and train model\n",
    "        self.model.fit(np.asarray(x), np.asarray(y))\n",
    "        print(\"Senti Regression Model Trained.\")\n",
    "\n",
    "\n",
    "    def test(self, val_set_x, val_set_y):\n",
    "        # test with val set\n",
    "        x, y = [], []\n",
    "        for i in val_set_x.index:\n",
    "            x.append(get_vector(self.vocabulary, val_set_x.loc[i, \"text\"]))\n",
    "            y.append(val_set_y.loc[i, \"label\"])\n",
    "        predictions = list(self.model.predict(x))\n",
    "        for i in range(len(predictions)):\n",
    "            if predictions[i] < 0.5:\n",
    "                predictions[i] = str(0)\n",
    "            elif predictions[i] < 1.5:\n",
    "                predictions[i] = str(1)\n",
    "            else:\n",
    "                predictions[i] = str(2)\n",
    "        predictions = np.asarray(predictions)\n",
    "        y = np.asarray(y)\n",
    "        #print(str(precision_score(y, predictions, average='macro')))\n",
    "        #print(str(recall_score(y, predictions, average='macro')))\n",
    "        #print(str(f1_score(y, predictions, average='macro')))\n",
    "        #print(str(accuracy_score(y, predictions)))\n",
    "        print(classification_report(y, predictions))\n",
    "        c_matrix = metrics.confusion_matrix(y, predictions, normalize='all')\n",
    "        sn.heatmap(c_matrix, annot=True)\n",
    "        plt.show();\n",
    "        error = []\n",
    "        #print(len(predictions))\n",
    "        y_list = val_set_y[\"label\"].tolist()\n",
    "        x_list = val_set_x[\"text\"].tolist()\n",
    "        #print(len(y_list))\n",
    "        for i in range(len(y_list)):\n",
    "            if y_list[i] != predictions[i]:\n",
    "                error.append(predictions[i])\n",
    "        #print(len(error))\n",
    "        #for i in range(len(x_list)):\n",
    "         #   print(x_list[i] + \"\\n\")\n",
    "        Pred_df = pd.DataFrame(predictions, columns=['errors'])\n",
    "        bx = sn.countplot(x= \"errors\", data= Pred_df)"
   ]
  },
  {
   "cell_type": "code",
   "execution_count": 321,
   "id": "2084939d",
   "metadata": {},
   "outputs": [
    {
     "name": "stdout",
     "output_type": "stream",
     "text": [
      "Senti Regression Created.\n",
      "Senti Regression Model Trained.\n"
     ]
    }
   ],
   "source": [
    "senti_regression = SentiRegression()\n",
    "senti_regression.train(train_set_x, train_set_y, 100)"
   ]
  },
  {
   "cell_type": "markdown",
   "id": "faaac229",
   "metadata": {},
   "source": [
    "## Regression validation set"
   ]
  },
  {
   "cell_type": "code",
   "execution_count": 322,
   "id": "6ee7eeb8",
   "metadata": {},
   "outputs": [
    {
     "name": "stdout",
     "output_type": "stream",
     "text": [
      "              precision    recall  f1-score   support\n",
      "\n",
      "           0       0.71      0.07      0.13       312\n",
      "           1       0.49      0.94      0.64       869\n",
      "           2       0.79      0.28      0.41       819\n",
      "\n",
      "    accuracy                           0.53      2000\n",
      "   macro avg       0.66      0.43      0.39      2000\n",
      "weighted avg       0.64      0.53      0.47      2000\n",
      "\n"
     ]
    },
    {
     "data": {
      "image/png": "[encoded data removed]",
      "text/plain": [
       "<Figure size 432x288 with 2 Axes>"
      ]
     },
     "metadata": {},
     "output_type": "display_data"
    },
    {
     "data": {
      "image/png": "[encoded data removed]",
      "text/plain": [
       "<Figure size 432x288 with 1 Axes>"
      ]
     },
     "metadata": {},
     "output_type": "display_data"
    }
   ],
   "source": [
    "senti_regression.test(val_set_x, val_set_y)"
   ]
  },
  {
   "cell_type": "markdown",
   "id": "4e52c58a",
   "metadata": {},
   "source": [
    "## Regrssion test set"
   ]
  },
  {
   "cell_type": "code",
   "execution_count": 323,
   "id": "3b7d19d9",
   "metadata": {},
   "outputs": [
    {
     "name": "stdout",
     "output_type": "stream",
     "text": [
      "              precision    recall  f1-score   support\n",
      "\n",
      "           0       0.81      0.03      0.06      3972\n",
      "           1       0.50      0.97      0.66      5937\n",
      "           2       0.69      0.16      0.26      2375\n",
      "\n",
      "    accuracy                           0.51     12284\n",
      "   macro avg       0.66      0.39      0.33     12284\n",
      "weighted avg       0.64      0.51      0.39     12284\n",
      "\n"
     ]
    },
    {
     "data": {
      "image/png": "[encoded data removed]",
      "text/plain": [
       "<Figure size 432x288 with 2 Axes>"
      ]
     },
     "metadata": {},
     "output_type": "display_data"
    },
    {
     "data": {
      "image/png": "[encoded data removed]",
      "text/plain": [
       "<Figure size 432x288 with 1 Axes>"
      ]
     },
     "metadata": {},
     "output_type": "display_data"
    }
   ],
   "source": [
    "senti_regression.test(test_set_x, test_set_y)"
   ]
  },
  {
   "cell_type": "markdown",
   "id": "fa61f8e4",
   "metadata": {},
   "source": [
    "# Lexicon"
   ]
  },
  {
   "cell_type": "code",
   "execution_count": 193,
   "id": "097364d5",
   "metadata": {},
   "outputs": [],
   "source": [
    "from nltk.corpus import wordnet as wn\n",
    "from nltk.corpus import sentiwordnet as swn\n",
    "\n",
    "lemmatizer = nltk.stem.WordNetLemmatizer()\n",
    "# Convert between the PennTreebank tags to simple Wordnet tags\n",
    "def penn_to_wn(tag):\n",
    "    if tag.startswith('J'):\n",
    "        return wn.ADJ\n",
    "    elif tag.startswith('N'):\n",
    "        return wn.NOUN\n",
    "    elif tag.startswith('R'):\n",
    "        return wn.ADV\n",
    "    elif tag.startswith('V'):\n",
    "        return wn.VERB\n",
    "    return None\n",
    "\n",
    "# stopwords\n",
    "stopwords = set(nltk.corpus.stopwords.words(\"english\"))\n",
    "additional_stopwords = [\".\", \",\", \"'s\", \"``\", \"''\", \"'\",\n",
    "                        \"n't\", \"%\", \"-\", \"$\", \"(\", \")\", \":\",\n",
    "                        \";\", \"@\", \"&\", \"'m\", \"user\", \"#\", \"!\",\n",
    "                        \"?\", \"...\", \"a\"]\n",
    "for sw in additional_stopwords: stopwords.add(sw)\n",
    "\n",
    "# get average sentimental score of a sentence, per word\n",
    "def get_senti_score(sentence):\n",
    "    token = nltk.word_tokenize(sentence)\n",
    "    # remove stop words\n",
    "    index = len(token) - 1\n",
    "    while index >= 0:\n",
    "        if token[index] in stopwords:\n",
    "            token.pop(index)\n",
    "        index -= 1\n",
    "    after_tagging = nltk.pos_tag(token)\n",
    "    sentiment = 0.0\n",
    "    objective = 0.0\n",
    "    tokens_count = 0\n",
    "    word_types = [wn.VERB, wn.NOUN, wn.ADJ, wn.ADV]\n",
    "    for word, tag in after_tagging:\n",
    "        wn_tag = penn_to_wn(tag)\n",
    "        if wn_tag not in word_types: continue\n",
    "\n",
    "        lemma = lemmatizer.lemmatize(word, pos=wn_tag)\n",
    "        if not lemma: continue\n",
    "\n",
    "        synsets = list(swn.senti_synsets(lemma, pos=wn_tag))\n",
    "        if not synsets: continue\n",
    "\n",
    "        swn_synset = synsets[0]\n",
    "\n",
    "        sentiment += swn_synset.pos_score() - swn_synset.neg_score()\n",
    "        objective += swn_synset.obj_score()\n",
    "        tokens_count += 1\n",
    "    if tokens_count == 0: return [0, 0]\n",
    "    return [sentiment / tokens_count, objective / tokens_count]\n",
    "\n",
    "\n",
    "class SentiLexicon(object):\n",
    "    def __init__(self):\n",
    "        self.model = sklearn.svm.SVC(kernel=\"linear\", gamma='auto')\n",
    "        print(\"Senti Lexicon Created.\")\n",
    "\n",
    "    def train(self, train_set_x, train_set_y):\n",
    "        # prepare data\n",
    "        x = []\n",
    "        y = []\n",
    "        for i in train_set_x.index:\n",
    "            for sentence in nltk.tokenize.sent_tokenize(train_set_x.loc[i, \"text\"]):\n",
    "                x.append(get_senti_score(sentence))\n",
    "                y.append(train_set_y.loc[i, \"label\"])\n",
    "\n",
    "        # Train model\n",
    "        self.model.fit(np.asarray(x), np.asarray(y))\n",
    "        print(\"Senti Lexicon Model Trained.\")\n",
    "    \n",
    "    def test(self, val_set_x, val_set_y):\n",
    "        x, y = [], []\n",
    "        for i in val_set_x.index:\n",
    "            for sentence in nltk.tokenize.sent_tokenize(val_set_x.loc[i, \"text\"]):\n",
    "                x.append(get_senti_score(sentence))\n",
    "                y.append(val_set_y.loc[i, \"label\"])\n",
    "        predictions = self.model.predict(x)\n",
    "        y = np.asarray(y)\n",
    "\n",
    "        #print(\"precision_score: \" + str(precision_score(y, predictions, average='macro')))\n",
    "        #print(\"recall_score: \" + str(recall_score(y, predictions, average='macro')))\n",
    "        #print(\"f1_score: \" + str(f1_score(y, predictions, average='macro')))\n",
    "        #print(\"accuracy_score: \" + str(accuracy_score(y, predictions)))\n",
    "        print(classification_report(y, predictions))\n",
    "        c_matrix = metrics.confusion_matrix(y, predictions, normalize='all')\n",
    "        sn.heatmap(c_matrix, annot=True)\n",
    "        plt.show();"
   ]
  },
  {
   "cell_type": "code",
   "execution_count": 194,
   "id": "b260afdb",
   "metadata": {},
   "outputs": [
    {
     "name": "stdout",
     "output_type": "stream",
     "text": [
      "Senti Lexicon Created.\n",
      "Senti Lexicon Model Trained.\n"
     ]
    }
   ],
   "source": [
    "senti_lexicon = SentiLexicon()\n",
    "senti_lexicon.train(train_set_x, train_set_y)"
   ]
  },
  {
   "cell_type": "code",
   "execution_count": 43,
   "id": "98dca2e5",
   "metadata": {},
   "outputs": [
    {
     "name": "stderr",
     "output_type": "stream",
     "text": [
      "[nltk_data] Downloading package sentiwordnet to\n",
      "[nltk_data]     C:\\Users\\c21056034\\AppData\\Roaming\\nltk_data...\n",
      "[nltk_data]   Unzipping corpora\\sentiwordnet.zip.\n"
     ]
    },
    {
     "data": {
      "text/plain": [
       "True"
      ]
     },
     "execution_count": 43,
     "metadata": {},
     "output_type": "execute_result"
    }
   ],
   "source": [
    "nltk.download('sentiwordnet')"
   ]
  },
  {
   "cell_type": "markdown",
   "id": "71dbd5a3",
   "metadata": {},
   "source": [
    "## Lexicon validation set"
   ]
  },
  {
   "cell_type": "code",
   "execution_count": 196,
   "id": "5491d0e2",
   "metadata": {},
   "outputs": [
    {
     "name": "stdout",
     "output_type": "stream",
     "text": [
      "              precision    recall  f1-score   support\n",
      "\n",
      "           0       0.00      0.00      0.00       534\n",
      "           1       0.42      0.85      0.57      1399\n",
      "           2       0.57      0.25      0.34      1548\n",
      "\n",
      "    accuracy                           0.45      3481\n",
      "   macro avg       0.33      0.37      0.30      3481\n",
      "weighted avg       0.43      0.45      0.38      3481\n",
      "\n"
     ]
    },
    {
     "name": "stderr",
     "output_type": "stream",
     "text": [
      "C:\\Users\\c21056034\\Anaconda3\\lib\\site-packages\\sklearn\\metrics\\_classification.py:1248: UndefinedMetricWarning: Precision and F-score are ill-defined and being set to 0.0 in labels with no predicted samples. Use `zero_division` parameter to control this behavior.\n",
      "  _warn_prf(average, modifier, msg_start, len(result))\n",
      "C:\\Users\\c21056034\\Anaconda3\\lib\\site-packages\\sklearn\\metrics\\_classification.py:1248: UndefinedMetricWarning: Precision and F-score are ill-defined and being set to 0.0 in labels with no predicted samples. Use `zero_division` parameter to control this behavior.\n",
      "  _warn_prf(average, modifier, msg_start, len(result))\n",
      "C:\\Users\\c21056034\\Anaconda3\\lib\\site-packages\\sklearn\\metrics\\_classification.py:1248: UndefinedMetricWarning: Precision and F-score are ill-defined and being set to 0.0 in labels with no predicted samples. Use `zero_division` parameter to control this behavior.\n",
      "  _warn_prf(average, modifier, msg_start, len(result))\n"
     ]
    },
    {
     "data": {
      "image/png": "[encoded data removed]",
      "text/plain": [
       "<Figure size 432x288 with 2 Axes>"
      ]
     },
     "metadata": {},
     "output_type": "display_data"
    }
   ],
   "source": [
    "senti_lexicon.test(val_set_x, val_set_y)"
   ]
  },
  {
   "cell_type": "markdown",
   "id": "2d7618a8",
   "metadata": {},
   "source": [
    "## Lexicon test set"
   ]
  },
  {
   "cell_type": "code",
   "execution_count": 197,
   "id": "e19cb1ef",
   "metadata": {},
   "outputs": [
    {
     "name": "stderr",
     "output_type": "stream",
     "text": [
      "C:\\Users\\c21056034\\Anaconda3\\lib\\site-packages\\sklearn\\metrics\\_classification.py:1248: UndefinedMetricWarning: Precision and F-score are ill-defined and being set to 0.0 in labels with no predicted samples. Use `zero_division` parameter to control this behavior.\n",
      "  _warn_prf(average, modifier, msg_start, len(result))\n",
      "C:\\Users\\c21056034\\Anaconda3\\lib\\site-packages\\sklearn\\metrics\\_classification.py:1248: UndefinedMetricWarning: Precision and F-score are ill-defined and being set to 0.0 in labels with no predicted samples. Use `zero_division` parameter to control this behavior.\n",
      "  _warn_prf(average, modifier, msg_start, len(result))\n",
      "C:\\Users\\c21056034\\Anaconda3\\lib\\site-packages\\sklearn\\metrics\\_classification.py:1248: UndefinedMetricWarning: Precision and F-score are ill-defined and being set to 0.0 in labels with no predicted samples. Use `zero_division` parameter to control this behavior.\n",
      "  _warn_prf(average, modifier, msg_start, len(result))\n"
     ]
    },
    {
     "name": "stdout",
     "output_type": "stream",
     "text": [
      "              precision    recall  f1-score   support\n",
      "\n",
      "           0       0.00      0.00      0.00      6599\n",
      "           1       0.46      0.81      0.59      8521\n",
      "           2       0.32      0.33      0.32      3887\n",
      "\n",
      "    accuracy                           0.43     19007\n",
      "   macro avg       0.26      0.38      0.30     19007\n",
      "weighted avg       0.27      0.43      0.33     19007\n",
      "\n"
     ]
    },
    {
     "data": {
      "image/png": "[encoded data removed]",
      "text/plain": [
       "<Figure size 432x288 with 2 Axes>"
      ]
     },
     "metadata": {},
     "output_type": "display_data"
    }
   ],
   "source": [
    "senti_lexicon.test(test_set_x, test_set_y)"
   ]
  },
  {
   "cell_type": "markdown",
   "id": "25c34cb8",
   "metadata": {},
   "source": [
    "# Naive Bayes"
   ]
  },
  {
   "cell_type": "code",
   "execution_count": 198,
   "id": "c1443d1b",
   "metadata": {},
   "outputs": [],
   "source": [
    "import operator\n",
    "import nltk\n",
    "import sklearn\n",
    "import numpy as np\n",
    "from sklearn.metrics import precision_score, recall_score, f1_score,accuracy_score\n",
    "from sklearn.naive_bayes import GaussianNB\n",
    "from sklearn import metrics\n",
    "import seaborn as sn\n",
    "import matplotlib.pyplot as plt\n",
    "\n",
    "\n",
    "class SentiNB(object):\n",
    "    def __init__(self):\n",
    "        self.model = GaussianNB()\n",
    "        self.vocabulary = []\n",
    "        print(\"Senti Naive Bayes Created.\")\n",
    "\n",
    "    # Feature: n most frequent words of each label class and combining them together\n",
    "    def train(self, train_set_x, train_set_y, n=100):\n",
    "        # Data preprocessing\n",
    "        stopwords = set(nltk.corpus.stopwords.words(\"english\"))\n",
    "        additional_stopwords = [\".\", \",\", \"'s\", \"``\", \"''\", \"'\", \"n't\", \"%\", \"-\", \"$\", \"(\", \")\", \":\", \";\", \"@\", \"&\", \"'m\", \"user\", \"#\", \"!\", \"?\", \"...\"]\n",
    "        for sw in additional_stopwords: stopwords.add(sw)\n",
    "        \n",
    "        # Prepare vocabulary\n",
    "        for label in [\"0\", \"1\", \"2\"]:\n",
    "            # get texts with same label\n",
    "            temp_list = []\n",
    "            for i in train_set_x.index:\n",
    "                if train_set_y.loc[i, \"label\"] == label:\n",
    "                    temp_list.append(train_set_x.loc[i, \"text\"])\n",
    "            \n",
    "            # get n most frequent words of this label class\n",
    "            dict_word_freq = {}\n",
    "            for text in temp_list:\n",
    "                for sentence in nltk.tokenize.sent_tokenize(text):\n",
    "                    for token in nltk.tokenize.word_tokenize(sentence):\n",
    "                        word = lemmatizer.lemmatize(token).lower()\n",
    "                        if word in stopwords: continue\n",
    "                        if word in dict_word_freq: dict_word_freq[word] += 1\n",
    "                        else: dict_word_freq[word] = 1\n",
    "                        \n",
    "            # sort and add first n words in sorted list to vocabulary\n",
    "            sorted_list = sorted(dict_word_freq.items(), key=operator.itemgetter(1), reverse=True)\n",
    "            if n < len(sorted_list): sorted_list = sorted_list[:n]\n",
    "            for word, frequency in sorted_list:\n",
    "                if word not in self.vocabulary: self.vocabulary.append(word)\n",
    "\n",
    "        # Create training data\n",
    "        x, y = [], []\n",
    "        for i in train_set_x.index:\n",
    "            x.append(get_vector(self.vocabulary, train_set_x.loc[i, \"text\"]))\n",
    "            y.append(train_set_y.loc[i, \"label\"])\n",
    "\n",
    "        # Init and train model\n",
    "        self.model.fit(np.asarray(x), np.asarray(y))\n",
    "        print(\"Senti Naive Bayes Model Trained.\")\n",
    "\n",
    "    def test(self, val_set_x, val_set_y):\n",
    "        # test with val set\n",
    "        x, y = [], []\n",
    "        for i in val_set_x.index:\n",
    "            x.append(get_vector(self.vocabulary, val_set_x.loc[i, \"text\"]))\n",
    "            y.append(val_set_y.loc[i, \"label\"])\n",
    "        predictions = self.model.predict(x)\n",
    "        y = np.asarray(y)\n",
    "        #print(str(precision_score(y, predictions, average='macro')))\n",
    "        #print(str(recall_score(y, predictions, average='macro')))\n",
    "        #print(str(f1_score(y, predictions, average='macro')))\n",
    "        #print(str(accuracy_score(y, predictions)))\n",
    "        print(classification_report(y, predictions))\n",
    "        c_matrix = metrics.confusion_matrix(y, predictions, normalize='all')\n",
    "        sn.heatmap(c_matrix, annot=True)\n",
    "        plt.show();\n"
   ]
  },
  {
   "cell_type": "code",
   "execution_count": 199,
   "id": "84ab202f",
   "metadata": {},
   "outputs": [
    {
     "name": "stdout",
     "output_type": "stream",
     "text": [
      "Senti Naive Bayes Created.\n",
      "Senti Naive Bayes Model Trained.\n"
     ]
    }
   ],
   "source": [
    "senti_nb = SentiNB()\n",
    "senti_nb.train(train_set_x, train_set_y)"
   ]
  },
  {
   "cell_type": "markdown",
   "id": "23ac8dde",
   "metadata": {},
   "source": [
    "## NB validation set"
   ]
  },
  {
   "cell_type": "code",
   "execution_count": 200,
   "id": "5c21daee",
   "metadata": {},
   "outputs": [
    {
     "name": "stdout",
     "output_type": "stream",
     "text": [
      "              precision    recall  f1-score   support\n",
      "\n",
      "           0       0.34      0.39      0.36       312\n",
      "           1       0.54      0.61      0.57       869\n",
      "           2       0.62      0.50      0.56       819\n",
      "\n",
      "    accuracy                           0.53      2000\n",
      "   macro avg       0.50      0.50      0.50      2000\n",
      "weighted avg       0.54      0.53      0.53      2000\n",
      "\n"
     ]
    },
    {
     "data": {
      "image/png": "[encoded data removed]",
      "text/plain": [
       "<Figure size 432x288 with 2 Axes>"
      ]
     },
     "metadata": {},
     "output_type": "display_data"
    }
   ],
   "source": [
    "senti_nb.test(val_set_x, val_set_y)"
   ]
  },
  {
   "cell_type": "markdown",
   "id": "dedee51c",
   "metadata": {},
   "source": [
    "## NB Test set"
   ]
  },
  {
   "cell_type": "code",
   "execution_count": 201,
   "id": "7c4a7444",
   "metadata": {},
   "outputs": [
    {
     "name": "stdout",
     "output_type": "stream",
     "text": [
      "              precision    recall  f1-score   support\n",
      "\n",
      "           0       0.52      0.38      0.44      3972\n",
      "           1       0.55      0.69      0.61      5937\n",
      "           2       0.43      0.35      0.38      2375\n",
      "\n",
      "    accuracy                           0.52     12284\n",
      "   macro avg       0.50      0.47      0.48     12284\n",
      "weighted avg       0.52      0.52      0.51     12284\n",
      "\n"
     ]
    },
    {
     "data": {
      "image/png": "[encoded data removed]",
      "text/plain": [
       "<Figure size 432x288 with 2 Axes>"
      ]
     },
     "metadata": {},
     "output_type": "display_data"
    }
   ],
   "source": [
    "senti_nb.test(test_set_x, test_set_y)"
   ]
  },
  {
   "cell_type": "code",
   "execution_count": null,
   "id": "030eccc8",
   "metadata": {},
   "outputs": [],
   "source": []
  }
 ],
 "metadata": {
  "kernelspec": {
   "display_name": "Python 3 (ipykernel)",
   "language": "python",
   "name": "python3"
  },
  "language_info": {
   "codemirror_mode": {
    "name": "ipython",
    "version": 3
   },
   "file_extension": ".py",
   "mimetype": "text/x-python",
   "name": "python",
   "nbconvert_exporter": "python",
   "pygments_lexer": "ipython3",
   "version": "3.9.7"
  }
 },
 "nbformat": 4,
 "nbformat_minor": 5
}
